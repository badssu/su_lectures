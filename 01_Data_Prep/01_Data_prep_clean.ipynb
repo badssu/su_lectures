{
  "nbformat": 4,
  "nbformat_minor": 0,
  "metadata": {
    "colab": {
      "name": "01_Data_prep_clean.ipynb",
      "provenance": [],
      "collapsed_sections": [],
      "authorship_tag": "ABX9TyPoMv/YvF0EDHTzEKFriWdI",
      "include_colab_link": true
    },
    "kernelspec": {
      "name": "python3",
      "display_name": "Python 3"
    },
    "language_info": {
      "name": "python"
    }
  },
  "cells": [
    {
      "cell_type": "markdown",
      "metadata": {
        "id": "view-in-github",
        "colab_type": "text"
      },
      "source": [
        "<a href=\"https://colab.research.google.com/github/badssu/su_lectures/blob/main/01_Data_Prep/01_Data_prep_clean.ipynb\" target=\"_parent\"><img src=\"https://colab.research.google.com/assets/colab-badge.svg\" alt=\"Open In Colab\"/></a>"
      ]
    },
    {
      "cell_type": "code",
      "metadata": {
        "id": "WgFqSMamjHob"
      },
      "source": [
        "import pandas as pd\n",
        "import numpy as np\n",
        "import datetime\n",
        "from matplotlib import pyplot as plt\n",
        "import seaborn as sns\n",
        "from sklearn.cluster import KMeans\n",
        "from sklearn.decomposition import PCA"
      ],
      "execution_count": null,
      "outputs": []
    },
    {
      "cell_type": "markdown",
      "metadata": {
        "id": "eR2bFvC2BWk6"
      },
      "source": [
        "## Практическа задача\n",
        "\n",
        "Разполагаме с данни за събития на онлайн ритейл бизнес. Данните са в табличен вид, където всяко събитие представлява отделен запис с неговата дата и време до милисекунди в POSIX формат, вид на събитието, идентификатор на потребителя, идентификатор на сесията на потребителя, възраст на потребителя и операционна система на потребителя.\n",
        "\n",
        "\n",
        "Задачата ни е да групираме потребителите по поведението си и да идентифицираме тези с нестандартно поведение. Данните са в суров вид, следователно за целта на анализа и групирането се налага предварително те да бъдат почистени от грешни записи, както и да се подходи към изграждане на обяснителни характеристики за поведението на посетителите на сайта."
      ]
    },
    {
      "cell_type": "markdown",
      "metadata": {
        "id": "Xh8LKiuQ1Pun"
      },
      "source": [
        "## Прочитане и първоначално почистване"
      ]
    },
    {
      "cell_type": "markdown",
      "metadata": {
        "id": "gDSLlpuiNQ2n"
      },
      "source": [
        "#### Прочитане\n",
        "Нека започнем с прочитане на данните и зареждането им в pandas таблица като използваме read_csv метода."
      ]
    },
    {
      "cell_type": "code",
      "metadata": {
        "id": "EcGh5lVURd_t"
      },
      "source": [
        "df = pd.read_csv('https://github.com/badssu/su_lectures/raw/main/01_Data_Prep/sessions_and_events_raw_part0.csv', index_col=0)"
      ],
      "execution_count": null,
      "outputs": []
    },
    {
      "cell_type": "code",
      "metadata": {
        "id": "keq9H0IBlxxY"
      },
      "source": [
        "df.head()"
      ],
      "execution_count": null,
      "outputs": []
    },
    {
      "cell_type": "markdown",
      "metadata": {
        "id": "3kQsFrmYRux6"
      },
      "source": [
        "Тъй като данните са ни в няколко csv файла ще използваме map функцията на python, с която можем да приложим една функция върху масив."
      ]
    },
    {
      "cell_type": "code",
      "metadata": {
        "id": "Co765-1Ek31W"
      },
      "source": [
        "df = pd.concat(map(lambda x: pd.read_csv(x, index_col=0), [f'https://github.com/badssu/su_lectures/raw/main/01_Data_Prep/sessions_and_events_raw_part{i}.csv' for i in range(8)]))"
      ],
      "execution_count": null,
      "outputs": []
    },
    {
      "cell_type": "markdown",
      "metadata": {
        "id": "Cu15pDamFhdx"
      },
      "source": [
        "Разглеждане на основни характеристики:"
      ]
    },
    {
      "cell_type": "code",
      "metadata": {
        "id": "bGo_5mdPC3QE"
      },
      "source": [
        "(df.describe() # get summary statistics\n",
        "   .apply(lambda s: s.apply('{0:.0f}'.format))) # apply number formating for a cleaner view"
      ],
      "execution_count": null,
      "outputs": []
    },
    {
      "cell_type": "code",
      "metadata": {
        "id": "GZR06SNeFUZO"
      },
      "source": [
        "# how big is our table\n",
        "len(df)"
      ],
      "execution_count": null,
      "outputs": []
    },
    {
      "cell_type": "markdown",
      "metadata": {
        "id": "b2vI5u6SICCf"
      },
      "source": [
        "#### Липсващи данни\n",
        "\n",
        "Липсващите данни са често явление и правилното справяне с тях е ключово за всички последващи стъпки в моделирането.\n",
        "\n",
        "Когато открием наличието на липсващи данни трябва да си отговорим на следните въпроси, за да решим как най-добре да се справим с проблема:\n",
        "\n",
        "1. Напълно случайно ли лиспват данните или тяхната липса е резултат на някакъв процес?\n",
        "* Напълно случайно липсващи - може спокойно да се подходи или към филтриране или към популиране\n",
        "* Неслучайно липсващи - липсата на данни ни носи информация за допълнителен процес. В такъв случай е добре допълнително да се закодира информацията, че на даденото място са липсвали данни, преди да се популират със стойности\n",
        "2. Какъв е обемът на засегнатите записи?\n",
        "* При много малък обем на засегнати данни, то филтрирането им не би довело до големи загуби.\n",
        "3. Кои последващи характеристики биха били повлияни от липсващи данни?\n",
        "* При решението за филтриране или запълване трябва добре да се помисли какви са ни обяснителните характеристики и използвания прогнозен модел. Възможно е при премахване на частични данни да се афектират характеристики разчитащи на бройка и средни стойности.\n",
        "4. Възможно ли е популирането на липсващите данни, чрез допълнителна логика?\n",
        "* За да е възможна работата в последващите стъпки с лиспващи данни, те често биват запълвани с:\n",
        "  * Средна или медианна стойност\n",
        "  * Най-често срещана стойност\n",
        "  * Минимална или максимална стойност\n",
        "  * Стойност извън разпределението пр. -99 (подходящо единствено за една малка част от моделите)\n",
        "  * Последно срещана стойност (при времеви редове)\n",
        "  * Предсказана стойност от друг модел\n",
        "\n",
        "* Преди да се вземе решение за начина на запълване на липсващите данни, трябва да вземем предвид тяхното естество и видът модел, който ще работи с тях. При работа с времеви редове бихме подходили по напълно различен начин, отколкото при работата с регресионна задача. Също така подходът за запълване при работа с линейна регресия би бил различен от този при работа с дръвче.\n",
        "\n",
        "5. Крайно необходимо ли е да се работи с засегнатите данни?\n",
        "\n",
        "* Важно е да знаем, че не сме длъжни да използваме всички налични пред нас данни. Мног често разполагаме с повече данни, от колкото ни е необходимо и част от задачата ни е да решим с кои трябва и с кои си заслужава да работим. В случаите, в които не можем да гарантираме качество на дадени данни, то по-добре би било да не фокусираме услията си върху тях (garbage in - garbage out). \n"
      ]
    },
    {
      "cell_type": "code",
      "metadata": {
        "id": "mHQ_HucIFWUT"
      },
      "source": [
        "# how many missings per column\n",
        "df.isna().agg('sum').head(10)"
      ],
      "execution_count": null,
      "outputs": []
    },
    {
      "cell_type": "markdown",
      "metadata": {
        "id": "olvANb24F3ri"
      },
      "source": [
        "#### 16 липсващи visitorid\n",
        "Тъй като фокус на нашето изследване е да групираме потребителите по тяхното поведение, записите с лиспваща информация за visitorid не са подходящи за работа и трябва да ги филтрираме."
      ]
    },
    {
      "cell_type": "code",
      "metadata": {
        "id": "VzlvirQiFgnw"
      },
      "source": [
        "df = df[~df.visitorid.isna()]"
      ],
      "execution_count": null,
      "outputs": []
    },
    {
      "cell_type": "markdown",
      "metadata": {
        "id": "xw1IXML8Glh4"
      },
      "source": [
        "#### 38 липсващи itemid\n",
        "\n",
        "Записите с липсващи стойности за продукт могат да бъдат филтрирани. Тъй като фокус на изследването ще са потребителите то при калкулациите на характеристики за тях, липсващите данни ще доведат то грешно сметнати стойности. Заради това се налага да идентифицираме кои потребители са засегнати и да се премахнат всички събития свързани с тях."
      ]
    },
    {
      "cell_type": "code",
      "metadata": {
        "id": "relkzLjzIt-w"
      },
      "source": [
        "# get the affected visitorids as a list\n",
        "affected_visitors = df[df.itemid.isna()].visitorid.unique()\n",
        "# filter the dataframe to exclude these users\n",
        "df = df[~df.visitorid.isin(affected_visitors)]"
      ],
      "execution_count": null,
      "outputs": []
    },
    {
      "cell_type": "markdown",
      "metadata": {
        "id": "6BHpBc6ILix_"
      },
      "source": [
        "#### 279278 липсващи os\n",
        "\n",
        "Преди да филтрираме записите с липсваща информация за операционна система и да загубим голяма част от данните следва да се запитаме защо тези данни липсват? \n",
        "Причината да за липсваща информация е, това че част от потребителите са използвали функция на браузърите си да не дават такава информация, когато посещават уебсайтове. Тъй като това е съзнателно действие, то също е част от потребителското поведение. В този случаи факта че липсва информация сам по себе си носи информация. За това ще закодираме липсващите стойности като отделна категория със стойност 'N/A'."
      ]
    },
    {
      "cell_type": "code",
      "metadata": {
        "id": "HVNBAvyCOD-M"
      },
      "source": [
        "df.os = df.os.fillna('N/A')"
      ],
      "execution_count": null,
      "outputs": []
    },
    {
      "cell_type": "markdown",
      "metadata": {
        "id": "-OhGoKBXJMwM"
      },
      "source": [
        "#### 2737857 липсващи transactionid\n",
        "\n",
        "От описанието на данните знаем, че тези стойности са популирани само в случай, че събитието е трансакция. Следователно липсващите стойности не са проблем, стига да знаем как да пресмятаме правилно агрегатни характеристики за потербителите."
      ]
    },
    {
      "cell_type": "markdown",
      "metadata": {
        "id": "fYRZxEZaF2sY"
      },
      "source": [
        "#### 560347 липсващи age\n",
        "\n",
        "Отново ако решим да филтрираме ще загубим голяма част от данните.\n",
        "Поради това ще се насочим към това да популираме липсващите записи.\n",
        "\n",
        "В нашият случаи ще подходим с използване на средна стойност. Преди да направим това, обаче, следва да отбележим и че имаме неправилни стойности в полето (отрицателна възраст или твърде голяма възраст). В тези случаи отново можем или да филтрираме или да запълним с други данни. Тъй като са малък брой записи ще премахнем невалидните стойности.\n",
        "\n",
        "Допълнително обаче, знаем и че причините за липсващи данни не са случайни, а са резултат на потребителско поведение. За това ще изградим и нова бинарна колона, която да описва дали наблюдението е липсвало или не."
      ]
    },
    {
      "cell_type": "code",
      "metadata": {
        "id": "AhSLMQiFSX-T"
      },
      "source": [
        "# number of invalid ages\n",
        "len(df[(df.age <= 0) | (df.age > 120)])"
      ],
      "execution_count": null,
      "outputs": []
    },
    {
      "cell_type": "code",
      "metadata": {
        "id": "wbQceyyJcrsL"
      },
      "source": [
        "# filter invalid ages\n",
        "df = df[~((df.age <= 0) | (df.age > 120))]\n",
        "# calculate the mean age\n",
        "mean_age = round(df.age.mean(), 0)\n",
        "# calculate a boolean column indicating whether the age is missing\n",
        "df['missing_age'] = df.age.isna().astype('int')\n",
        "# impute missing ages to be the mean age\n",
        "df.age = df.age.fillna(mean_age)"
      ],
      "execution_count": null,
      "outputs": []
    },
    {
      "cell_type": "code",
      "metadata": {
        "id": "bcQN1-MzdxIH"
      },
      "source": [
        "# how many missings per column\n",
        "df.isna().agg('sum').head(10)"
      ],
      "execution_count": null,
      "outputs": []
    },
    {
      "cell_type": "markdown",
      "metadata": {
        "id": "Cb2PT81uIcvp"
      },
      "source": [
        "#### Дублирани стойности\n",
        "\n",
        "Често срещан проблем със сурови данни са дублираните записи.\n",
        "\n",
        "Преди да идентифицираме дубликати като проблем и да решим как да подходим трябва да си изясним кои колони формират ключа за нашата таблица и съответно да потърсим уникални стойности за тях.\n",
        "\n",
        "Както и при липсващи и грешни стойности сме изправени пред въпроса дали да филтрираме засегнатите записи, да агрегираме стойностите и осигурим уникалност или да оставим таблицата така.\n"
      ]
    },
    {
      "cell_type": "code",
      "metadata": {
        "id": "7ZaHAf4gnkE8"
      },
      "source": [
        "# how many identical duplicates are in the dataframe\n",
        "len(df.drop_duplicates())"
      ],
      "execution_count": null,
      "outputs": []
    },
    {
      "cell_type": "code",
      "metadata": {
        "id": "v3_j7W5KiBo1"
      },
      "source": [
        "# we drop the identical duplicates as they are unexpected for this table\n",
        "df = df.drop_duplicates()"
      ],
      "execution_count": null,
      "outputs": []
    },
    {
      "cell_type": "code",
      "metadata": {
        "id": "CvmRVP5ClUgQ"
      },
      "source": [
        "df.count()"
      ],
      "execution_count": null,
      "outputs": []
    },
    {
      "cell_type": "code",
      "metadata": {
        "id": "sPTVv9-_IJLs"
      },
      "source": [
        "df.nunique()"
      ],
      "execution_count": null,
      "outputs": []
    },
    {
      "cell_type": "markdown",
      "metadata": {
        "id": "CWEuvlNRf1Nd"
      },
      "source": [
        "Можем да забележим, че трансакциите не съдържат напълно уникални стойности, което първоначално изглежда като неочакван резултат.\n",
        "\n",
        "Нека проверим дали тези записи са дублирани трансакции между потребители или между продукти.\n"
      ]
    },
    {
      "cell_type": "code",
      "metadata": {
        "id": "_ENGKNTSoVso"
      },
      "source": [
        "by_transaction = (df.groupby('transactionid').agg(count_records=('timestamp', 'count'),\n",
        "                                                  count_unique_visitors=('visitorid', 'nunique'),\n",
        "                                                  count_unique_items=('itemid', 'nunique'))\n",
        "                                             .reset_index())\n",
        "by_transaction = by_transaction[(by_transaction.count_records >= 2) & (~by_transaction.transactionid.isna())]\n",
        "print(f'Number of transaction ids that have more than one visitor id: {np.sum(by_transaction.count_unique_visitors >= 2)}')\n",
        "print(f'Number of transaction ids that have more than one item id: {np.sum(by_transaction.count_unique_items >= 2)}')"
      ],
      "execution_count": null,
      "outputs": []
    },
    {
      "cell_type": "markdown",
      "metadata": {
        "id": "EUv9kOyTgA7E"
      },
      "source": [
        "Изглежда дубликатите са заради факта, че ако клиент закупи повече от един артикул наведнъж, всеки от тях получава запис за трансакционно събитие със същия идентификатор. Това е нормално поведение, следователно няма необходимост от мерки за подсигуряване на уникалност."
      ]
    },
    {
      "cell_type": "markdown",
      "metadata": {
        "id": "PornhlPdME3U"
      },
      "source": [
        "#### Работа с обекти за време\n",
        "\n",
        "В таблицата има налична информация за времето на събитието в POSIX формат. \n",
        "\n",
        "Можем да използваме функцията to_datetime на pandas модула, за да я конвертираме в datetime обект. Важно е да отбележим, че стойностите са в милисекунди."
      ]
    },
    {
      "cell_type": "code",
      "metadata": {
        "id": "hfrOVI4VEto4"
      },
      "source": [
        "df.timestamp = pd.to_datetime(df.timestamp, unit='ms')"
      ],
      "execution_count": null,
      "outputs": []
    },
    {
      "cell_type": "code",
      "metadata": {
        "id": "E4p9S7AbhfJ-"
      },
      "source": [
        "df.head()"
      ],
      "execution_count": null,
      "outputs": []
    },
    {
      "cell_type": "markdown",
      "metadata": {
        "id": "YrO0srtTSWVE"
      },
      "source": [
        "# Изграждане на обяснителни характеристики\n"
      ]
    },
    {
      "cell_type": "markdown",
      "metadata": {
        "id": "QjLR6ky5iXkz"
      },
      "source": [
        "#### Закодиране на категорийни характеристики\n",
        "\n",
        "За да можем да работим с категорийни харакеристики, както за моделиране, така и за агрегиране, следва да ги закодираме в подходящ за работа формат.\n",
        "\n",
        "Възможни са различни подходи към категорийните характеристики в зависимост от вида на категориите и вида моделиране.\n",
        "\n",
        "* Числово закодиране - задаване на целочислени индекси на всяка от категориите\n",
        "\n",
        "  куче, котка, риба -> 1, 2, 3\n",
        "\n",
        "  * При работа с параметрични модели и неординални данни такъв тип закодиране не е подходящо, защото предполага че една котка = 2 * куче, което няма смислена стойност\n",
        "  * При работа с ординални данни е възможен такъв подход, но трябва да се има предвид, че не е оптимален, тъй като най-често дистанцията между категориите не е еднаква, следователно не можем да твърдим, че юноша = 3 * бебе (ординални са категориите бебе, дете, юноша, възрастен)\n",
        "\n",
        "* Едночислово закодиране - при едночисловото закодиране от К категории се създава вектор с дължина К. Всеки индекс от вектора отговаря за една категория и ако дадения ред е от категория М, то на позиция М имаме 1, а на всички останали позиции имаме 0.\n",
        "\n",
        "куче, котка, риба -> [1, 0, 0], [0, 1, 0], [0, 0, 1]\n",
        "\n",
        "  * Важно е при едночисловото закодиране да се премахне една от категориите, защото се получава повтаряне пълна зависимост на едни характеристики от други (мултиколинеарност)\n",
        "  * Едночисловто закодиране увеличава значително размерността на данните при наличието на множество категории\n",
        "\n",
        "* Описателно закодиране - при работа с категории с твърде висока кардиналност е възможно да използваме познанието си за бизнеса и да потърсим други обяснителни характеристики (вкл. други категории), които могат да опишат в някаква степен значението и на дадената категория. Пр. вместо да използваме модел на телефон, поради множеството видове и постоянното излизане на нови модели, можем да използваме други характеристики като: марка, размер на дисплей, операционна система и др.\n",
        "\n",
        "* Научено закодиране - при наученото закодиране обикновено използваме предварително трениран модел, който може от категорията да ни даде уникален вектор. Често за целта се използват невронни мрежи върху текстови или снимкови данни.\n",
        "\n",
        "Едно от най-популярните закодирания е едночисловото закодиране, в което превръщаме категориите в бинарен вектор отбелязващ, в коя категория е дадения запис."
      ]
    },
    {
      "cell_type": "code",
      "metadata": {
        "id": "GPrgW-sAxY3Z"
      },
      "source": [
        "df = pd.concat([df, pd.get_dummies(df.event, prefix='event')], axis=1)\n",
        "df = pd.concat([df, pd.get_dummies(df.os, prefix='os')], axis=1)"
      ],
      "execution_count": null,
      "outputs": []
    },
    {
      "cell_type": "code",
      "metadata": {
        "id": "Fr4ge0KCjOYZ"
      },
      "source": [
        "df.head(2)"
      ],
      "execution_count": null,
      "outputs": []
    },
    {
      "cell_type": "markdown",
      "metadata": {
        "id": "bTTmmZc4z4iu"
      },
      "source": [
        "### Характеристики за сесиите"
      ]
    },
    {
      "cell_type": "code",
      "metadata": {
        "id": "MSGzNkC71nZi"
      },
      "source": [
        "# calculating session start, end and number of views\n",
        "df['has_transaction'] = (~df.transactionid.isna()).astype('int')\n",
        "by_session = df.groupby('session_id').agg(\n",
        "    session_start=('timestamp', 'min'),\n",
        "    session_end=('timestamp', 'max'),\n",
        "    count_view=('event_view', 'sum'),\n",
        "    count_addtocart=('event_addtocart', 'sum'),\n",
        "    count_transaction=('transactionid', 'nunique'),\n",
        "    count_unique_visited_items=('itemid', 'nunique'),\n",
        "    has_transaction=('event_transaction', 'max')\n",
        ").reset_index()\n",
        "# calculating session duration\n",
        "by_session['session_duration_minutes'] = (by_session.session_end - by_session.session_start).apply(lambda x: x.seconds / 60)\n",
        "by_session['avg_view_time_seconds'] = (by_session.session_duration_minutes * 60) / by_session.count_view"
      ],
      "execution_count": null,
      "outputs": []
    },
    {
      "cell_type": "code",
      "metadata": {
        "id": "NG2iI5NwExb3"
      },
      "source": [
        "# checking the sessions with most views\n",
        "# notice the first 3 sessions have a lot of events with 0 duration. These seem to be some bot activity so we need to remove them\n",
        "by_session.sort_values(['count_view'], ascending=False).head(10)"
      ],
      "execution_count": null,
      "outputs": []
    },
    {
      "cell_type": "code",
      "metadata": {
        "id": "GNyjk3l6nrhw"
      },
      "source": [
        "# filter the bot activity\n",
        "by_session = by_session[by_session.count_view <= 500]"
      ],
      "execution_count": null,
      "outputs": []
    },
    {
      "cell_type": "code",
      "metadata": {
        "id": "9XbbE_FWkDMt"
      },
      "source": [
        "# checking the sessions with most duration\n",
        "by_session.sort_values(['session_duration_minutes'], ascending=False).head(10)"
      ],
      "execution_count": null,
      "outputs": []
    },
    {
      "cell_type": "code",
      "metadata": {
        "id": "7p7rcy5Aj3oo"
      },
      "source": [
        "# aggregating to the user level\n",
        "by_session_by_visitor = df[['visitorid', 'session_id']].merge(by_session.drop(['session_start', 'session_end'], axis=1), on='session_id', how='inner')\n",
        "by_session_by_visitor = (by_session_by_visitor\n",
        "                           .groupby('visitorid')\n",
        "                           .agg(\n",
        "                             avg_views_per_session=('count_view', 'mean'),\n",
        "                             avg_unique_items_per_session=('count_unique_visited_items', 'mean'),\n",
        "                             avg_session_duration_minutes=('session_duration_minutes', 'mean'),\n",
        "                             avg_page_view_time_seconds=('avg_view_time_seconds', 'mean')  \n",
        "                           )\n",
        "                           .reset_index())"
      ],
      "execution_count": null,
      "outputs": []
    },
    {
      "cell_type": "markdown",
      "metadata": {
        "id": "XbQ0mJklz8yA"
      },
      "source": [
        "### Характеристики за покупките\n"
      ]
    },
    {
      "cell_type": "code",
      "metadata": {
        "id": "A_0avfLn0Cr-"
      },
      "source": [
        "# building how frequeny a user buys an item\n",
        "visitor_buying_frequency = \\\n",
        "(df[~df.transactionid.isna()]\n",
        "  .groupby(['visitorid', 'itemid'])\n",
        "  .agg(unique_transactions=('transactionid', 'nunique'))\n",
        "  .reset_index()\n",
        "  .groupby('visitorid')\n",
        "  .agg(average_buying_frequency=('unique_transactions', 'mean'))\n",
        "  .reset_index())"
      ],
      "execution_count": null,
      "outputs": []
    },
    {
      "cell_type": "code",
      "metadata": {
        "id": "Cn1ywtEEpFQd"
      },
      "source": [
        "visitor_buying_frequency.sort_values('average_buying_frequency', ascending=False).head()"
      ],
      "execution_count": null,
      "outputs": []
    },
    {
      "cell_type": "code",
      "metadata": {
        "id": "_tKG1un8RfDa"
      },
      "source": [
        "# building average basket size of transactions per customer\n",
        "visitor_basket_size = \\\n",
        "(df[~df.transactionid.isna()]\n",
        "  .groupby(['visitorid', 'transactionid'])\n",
        "  .agg(unique_items=('itemid', 'nunique'))\n",
        "  .reset_index()\n",
        "  .groupby('visitorid')\n",
        "  .agg(average_basket_size=('unique_items', 'mean'))\n",
        "  .reset_index())"
      ],
      "execution_count": null,
      "outputs": []
    },
    {
      "cell_type": "code",
      "metadata": {
        "id": "JPC5P_tmpS9M"
      },
      "source": [
        "visitor_basket_size.sort_values('average_basket_size', ascending=False).head()"
      ],
      "execution_count": null,
      "outputs": []
    },
    {
      "cell_type": "markdown",
      "metadata": {
        "id": "WGGi7LJ10DOT"
      },
      "source": [
        "### Характеристики за време\n",
        "\n"
      ]
    },
    {
      "cell_type": "code",
      "metadata": {
        "id": "lF9RHWzoa7dm"
      },
      "source": [
        "min_datetime = df.timestamp.min()\n",
        "max_datetime = df.timestamp.max()\n",
        "print(f'min_datetime: {min_datetime}')\n",
        "print(f'max_datetime: {max_datetime}')"
      ],
      "execution_count": null,
      "outputs": []
    },
    {
      "cell_type": "code",
      "metadata": {
        "id": "GShp-BW3Sp-a"
      },
      "source": [
        "# calculating visitor age\n",
        "visitor_age = \\\n",
        "(df.groupby('visitorid')\n",
        "  .agg(first_session_time=('timestamp', 'min'),\n",
        "       last_session_time=('timestamp', 'max')))\n",
        "visitor_age['visitor_first_seen_days'] = visitor_age.first_session_time.apply(lambda x: (max_datetime - x).days)\n",
        "visitor_age['visitor_inactive_time'] = visitor_age.last_session_time.apply(lambda x: (max_datetime - x).days)\n",
        "visitor_age['visitor_active_period'] = visitor_age.visitor_first_seen_days - visitor_age.visitor_inactive_time"
      ],
      "execution_count": null,
      "outputs": []
    },
    {
      "cell_type": "markdown",
      "metadata": {
        "id": "MVS8sVFs0I3V"
      },
      "source": [
        "### Характеристики за събития и трансакции"
      ]
    },
    {
      "cell_type": "code",
      "metadata": {
        "id": "HB9yc3LRtVP8"
      },
      "source": [
        "by_visitor = df.groupby('visitorid').agg(\n",
        "    count_events=('event', 'count'),\n",
        "    count_items=('itemid', 'nunique'),\n",
        "    count_sessions=('session_id', 'nunique'),\n",
        "    count_view=('event_view', 'sum'),\n",
        "    count_addtocart=('event_addtocart', 'sum'),\n",
        "    count_transaction=('transactionid', 'nunique'),\n",
        "    sum_transaction=('event_transaction', 'sum'),\n",
        "    os=('os', 'first'),\n",
        "    age=('age', 'first')\n",
        ").reset_index()\n",
        "by_visitor['add_to_cart_rate'] = by_visitor.count_addtocart / by_visitor.count_view\n",
        "by_visitor['transaction_rate'] = by_visitor.sum_transaction / by_visitor.count_addtocart\n",
        "\n",
        "# clip values due to partial sessions\n",
        "by_visitor.transaction_rate = by_visitor.transaction_rate.clip(upper=1.0)\n",
        "by_visitor.add_to_cart_rate = by_visitor.add_to_cart_rate.clip(upper=1.0)\n",
        "\n",
        "by_visitor.transaction_rate = by_visitor.transaction_rate.fillna(value=0.0)\n",
        "by_visitor.add_to_cart_rate = by_visitor.add_to_cart_rate.fillna(value=1.0)"
      ],
      "execution_count": null,
      "outputs": []
    },
    {
      "cell_type": "code",
      "metadata": {
        "id": "6aTUu0ncturC"
      },
      "source": [
        "by_visitor.sort_values(['count_sessions', 'count_events'], ascending=[False, False]).head(10)"
      ],
      "execution_count": null,
      "outputs": []
    },
    {
      "cell_type": "markdown",
      "metadata": {
        "id": "cOHCoooISgb8"
      },
      "source": [
        "### Събиране на всички характеристики"
      ]
    },
    {
      "cell_type": "code",
      "metadata": {
        "id": "ThpK2_5DioQ1"
      },
      "source": [
        "by_visitor = by_visitor.merge(visitor_age, on='visitorid', how='inner')\n",
        "by_visitor = by_visitor.merge(visitor_basket_size, on='visitorid', how='left') # note that since this is only for users with transaction it has to be a left join\n",
        "by_visitor = by_visitor.merge(visitor_buying_frequency, on='visitorid', how='left') # note that since this is only for users with transaction it has to be a left join\n",
        "by_visitor = by_visitor.merge(by_session_by_visitor, on='visitorid', how='inner')"
      ],
      "execution_count": null,
      "outputs": []
    },
    {
      "cell_type": "code",
      "metadata": {
        "id": "B06X32zsjKAW"
      },
      "source": [
        "# fill missing features for users without a transaction\n",
        "by_visitor.average_basket_size = by_visitor.average_basket_size.fillna(0)\n",
        "by_visitor.average_buying_frequency = by_visitor.average_buying_frequency.fillna(0)"
      ],
      "execution_count": null,
      "outputs": []
    },
    {
      "cell_type": "code",
      "metadata": {
        "id": "H8b7lNSllUdV"
      },
      "source": [
        "by_visitor.head(5)"
      ],
      "execution_count": null,
      "outputs": []
    },
    {
      "cell_type": "code",
      "metadata": {
        "id": "bYoLL15VpZi2"
      },
      "source": [
        "by_visitor.describe().apply(lambda s: s.apply('{0:.0f}'.format))"
      ],
      "execution_count": null,
      "outputs": []
    },
    {
      "cell_type": "markdown",
      "metadata": {
        "id": "BGDtKLR70NLQ"
      },
      "source": [
        "## Групиране на потребители"
      ]
    },
    {
      "cell_type": "code",
      "metadata": {
        "id": "Wh4s_k5Jo23R"
      },
      "source": [
        "data = by_visitor[['count_events',\n",
        "                   'count_items',\n",
        "                   'count_sessions',\n",
        "                   'count_view',\n",
        "                   'count_addtocart',\n",
        "                   'count_transaction',\n",
        "                   'sum_transaction',\n",
        "                   'add_to_cart_rate',\n",
        "                   'transaction_rate',\n",
        "                   'visitor_first_seen_days',\n",
        "                   'visitor_inactive_time',\n",
        "                   'visitor_active_period',\n",
        "                   'average_basket_size',\n",
        "                   'average_buying_frequency',\n",
        "                   'avg_views_per_session',\n",
        "                   'avg_unique_items_per_session',\n",
        "                   'avg_session_duration_minutes',\n",
        "                   'age'\n",
        "                   ]]\n"
      ],
      "execution_count": null,
      "outputs": []
    },
    {
      "cell_type": "code",
      "metadata": {
        "id": "_pDkIfQJ4nPn"
      },
      "source": [
        "pca = PCA(n_components='mle')\n",
        "dim_reduced = pca.fit_transform(data)"
      ],
      "execution_count": null,
      "outputs": []
    },
    {
      "cell_type": "code",
      "metadata": {
        "id": "cdA9u-8WqQ3k"
      },
      "source": [
        "kmeans = KMeans(n_clusters=6, max_iter=1000).fit(dim_reduced)\n",
        "data[\"clusters\"] = kmeans.labels_"
      ],
      "execution_count": null,
      "outputs": []
    },
    {
      "cell_type": "code",
      "metadata": {
        "id": "TU03ECdws7u9"
      },
      "source": [
        "# supress warnings\n",
        "import warnings\n",
        "warnings.filterwarnings('ignore')\n",
        "# plot distribution plots of some of the metrics\n",
        "metrics = ['count_events', 'count_items', 'count_sessions', 'visitor_first_seen_days', 'age']\n",
        "log_scales = ['count_events', 'count_items', 'count_sessions', 'count_view', 'count_transaction']\n",
        "for metric in metrics:\n",
        "  hist_data = [data[data.clusters == i][metric] for i in range(7)]\n",
        "  #plt.xlim(0, 10_000)\n",
        "  plt.figure(figsize=(10, 5))\n",
        "  if metric in log_scales:\n",
        "    plt.xscale('log')\n",
        "  [sns.distplot(x, bins=30) for x in hist_data]\n",
        "  plt.title(metric)\n",
        "  plt.show()"
      ],
      "execution_count": null,
      "outputs": []
    },
    {
      "cell_type": "code",
      "metadata": {
        "id": "ZSSVFudFVavL"
      },
      "source": [
        "data[['count_events',\n",
        "     'count_sessions',\n",
        "      'count_transaction',\n",
        "      'average_basket_size',\n",
        "      'average_buying_frequency',\n",
        "      'age',\n",
        "      'visitor_first_seen_days',\n",
        "      'clusters']].groupby('clusters').agg(['count', 'sum', 'min', 'max', 'mean', 'median'])"
      ],
      "execution_count": null,
      "outputs": []
    }
  ]
}